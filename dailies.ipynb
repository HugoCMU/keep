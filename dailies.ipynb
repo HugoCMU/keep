{
 "cells": [
  {
   "cell_type": "markdown",
   "metadata": {},
   "source": [
    "# Dailies\n",
    "\n",
    "This notebook is used for processing daily journals."
   ]
  },
  {
   "cell_type": "code",
   "execution_count": null,
   "metadata": {},
   "outputs": [],
   "source": [
    "import pandas as pd\n",
    "import re\n",
    "\n",
    "# These will be specific to the data file used\n",
    "FILENAME = 'dailies.txt'\n",
    "DATE_REGEX = r'(\\d+\\/\\d+\\/\\d+)'\n",
    "\n",
    "# Custom regexes for fields\n",
    "DREAM_REGEX = r'dream\\s*\\((.*)\\)'\n",
    "EAT_TIME_REGEX = r'eat\\s*at\\s*(\\d*:*\\d*)\\s*'\n",
    "EAT_REGEX = r'[\\(\\s\\,]*(([\\w\\s\\d\\.\\/]*))[\\)\\,]'"
   ]
  },
  {
   "cell_type": "markdown",
   "metadata": {},
   "source": [
    "Lets put the journals into two seperate dataframes. One will include the bulleted grateful items for that day. The other will include the raw paragraphs. "
   ]
  },
  {
   "cell_type": "code",
   "execution_count": null,
   "metadata": {},
   "outputs": [],
   "source": [
    "raw_dreams = []\n",
    "raw_eating = []\n",
    "raw_balance = []\n",
    "\n",
    "\n",
    "# Import journal data from text file\n",
    "with open(FILENAME) as file:\n",
    "    for line in file:\n",
    "        # Remove trailing newspace\n",
    "        line = line.rstrip()\n",
    "        if line in ['#daily']:\n",
    "            pass\n",
    "        if '2018' in line:\n",
    "            date = re.search(DATE_REGEX, line).group(1)\n",
    "        elif 'dream' in line:\n",
    "            dream = re.search(DREAM_REGEX, line).group(1)\n",
    "            raw_dreams.append((date, dream))\n",
    "        elif 'meditation' in line:\n",
    "            raw_balance.append((date, 'meditation'))\n",
    "        elif 'yoga' in line:\n",
    "            raw_balance.append((date, 'yoga'))\n",
    "        elif 'workout' in line:\n",
    "            raw_balance.append((date, 'workout'))\n",
    "        elif 'eat' in line:\n",
    "            eat_time_match = re.search(EAT_TIME_REGEX, line)\n",
    "            eat_foods = re.search(EAT_REGEX, line)\n",
    "            if eat_foods is None:\n",
    "                continue\n",
    "            for item in eat_foods.groups()[1:]:\n",
    "                if eat_time_match:\n",
    "                    eat_time = eat_time_match.group(1)\n",
    "                else:\n",
    "                    eat_time = '-'\n",
    "                raw_eating.append((date, eat_time, item))\n",
    "        else:\n",
    "            pass\n",
    "                \n",
    "# Convert to dataframes\n",
    "dreams = pd.DataFrame(raw_dreams, columns=['Date', 'Dream'])\n",
    "eating = pd.DataFrame(raw_eating, columns=['Date', 'Time', 'Item'])\n",
    "balance = pd.DataFrame(raw_balance, columns=['Date', 'Activity'])\n"
   ]
  },
  {
   "cell_type": "code",
   "execution_count": null,
   "metadata": {},
   "outputs": [],
   "source": [
    "dreams.head()"
   ]
  },
  {
   "cell_type": "code",
   "execution_count": null,
   "metadata": {},
   "outputs": [],
   "source": [
    "eating.head()"
   ]
  },
  {
   "cell_type": "code",
   "execution_count": null,
   "metadata": {},
   "outputs": [],
   "source": [
    "balance.head()"
   ]
  },
  {
   "cell_type": "code",
   "execution_count": null,
   "metadata": {},
   "outputs": [],
   "source": []
  }
 ],
 "metadata": {
  "kernelspec": {
   "display_name": "Python [conda env:keep]",
   "language": "python",
   "name": "conda-env-keep-py"
  },
  "language_info": {
   "codemirror_mode": {
    "name": "ipython",
    "version": 3
   },
   "file_extension": ".py",
   "mimetype": "text/x-python",
   "name": "python",
   "nbconvert_exporter": "python",
   "pygments_lexer": "ipython3",
   "version": "3.6.4"
  }
 },
 "nbformat": 4,
 "nbformat_minor": 2
}
