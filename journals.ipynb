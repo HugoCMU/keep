{
 "cells": [
  {
   "cell_type": "markdown",
   "metadata": {},
   "source": [
    "# Journals\n",
    "\n",
    "This notebook is used for processing daily journals."
   ]
  },
  {
   "cell_type": "code",
   "execution_count": 1,
   "metadata": {
    "ExecuteTime": {
     "end_time": "2018-03-27T23:52:36.620218Z",
     "start_time": "2018-03-27T23:52:36.307240Z"
    }
   },
   "outputs": [],
   "source": [
    "import pandas as pd\n",
    "import re\n",
    "\n",
    "# These will be specific to the journal data file used\n",
    "JOURNAL_FILENAME = 'journals.txt'\n",
    "HEADER_REGEX = r'(\\d+\\/\\d+\\/\\d+)'\n",
    "GRATEFUL_REGEX = r'\\-(.*)'"
   ]
  },
  {
   "cell_type": "markdown",
   "metadata": {},
   "source": [
    "Lets put the journals into two seperate dataframes. One will include the bulleted grateful items for that day. The other will include the raw paragraphs. "
   ]
  },
  {
   "cell_type": "code",
   "execution_count": 2,
   "metadata": {
    "ExecuteTime": {
     "end_time": "2018-03-27T23:52:38.051063Z",
     "start_time": "2018-03-27T23:52:38.021218Z"
    }
   },
   "outputs": [],
   "source": [
    "raw_paragraphs = []\n",
    "raw_gratefuls = []\n",
    "\n",
    "date = 'Empty'\n",
    "grateful = 'Empty'\n",
    "paragraph = 'Empty'\n",
    "\n",
    "# Import journal data from text file\n",
    "with open(JOURNAL_FILENAME) as file:\n",
    "    for line in file:\n",
    "        if 'Journal' in line:\n",
    "            date = re.search(HEADER_REGEX, line).group(1)\n",
    "        elif '-' in line:\n",
    "            grateful = re.search(GRATEFUL_REGEX, line).group(1)\n",
    "            raw_gratefuls.append((date, grateful))\n",
    "        elif line not in ['\\n', '#journal\\n']:\n",
    "            raw_paragraphs.append((date, line))\n",
    "        else:\n",
    "            pass\n",
    "                \n",
    "# Convert to dataframes\n",
    "grateful = pd.DataFrame(raw_gratefuls, columns=['Date', 'Grateful'])\n",
    "paragraph = pd.DataFrame(raw_paragraphs, columns=['Date', 'Line'])"
   ]
  },
  {
   "cell_type": "code",
   "execution_count": 6,
   "metadata": {
    "ExecuteTime": {
     "end_time": "2018-03-27T23:53:38.834531Z",
     "start_time": "2018-03-27T23:53:38.826437Z"
    }
   },
   "outputs": [
    {
     "data": {
      "text/html": [
       "<div>\n",
       "<style scoped>\n",
       "    .dataframe tbody tr th:only-of-type {\n",
       "        vertical-align: middle;\n",
       "    }\n",
       "\n",
       "    .dataframe tbody tr th {\n",
       "        vertical-align: top;\n",
       "    }\n",
       "\n",
       "    .dataframe thead th {\n",
       "        text-align: right;\n",
       "    }\n",
       "</style>\n",
       "<table border=\"1\" class=\"dataframe\">\n",
       "  <thead>\n",
       "    <tr style=\"text-align: right;\">\n",
       "      <th></th>\n",
       "      <th>Date</th>\n",
       "      <th>Grateful</th>\n",
       "    </tr>\n",
       "  </thead>\n",
       "  <tbody>\n",
       "    <tr>\n",
       "      <th>0</th>\n",
       "      <td>26/03/2018</td>\n",
       "      <td>inforces the idea to myself that Youtube is an...</td>\n",
       "    </tr>\n",
       "    <tr>\n",
       "      <th>1</th>\n",
       "      <td>26/03/2018</td>\n",
       "      <td>Read paper TCN. Excited about work I will do ...</td>\n",
       "    </tr>\n",
       "    <tr>\n",
       "      <th>2</th>\n",
       "      <td>25/03/2018</td>\n",
       "      <td>constructive internet. I need to get back to m...</td>\n",
       "    </tr>\n",
       "    <tr>\n",
       "      <th>3</th>\n",
       "      <td>25/03/2018</td>\n",
       "      <td>Chinese food with Jenna</td>\n",
       "    </tr>\n",
       "    <tr>\n",
       "      <th>4</th>\n",
       "      <td>25/03/2018</td>\n",
       "      <td>Finally won fortnite</td>\n",
       "    </tr>\n",
       "  </tbody>\n",
       "</table>\n",
       "</div>"
      ],
      "text/plain": [
       "         Date                                           Grateful\n",
       "0  26/03/2018  inforces the idea to myself that Youtube is an...\n",
       "1  26/03/2018   Read paper TCN. Excited about work I will do ...\n",
       "2  25/03/2018  constructive internet. I need to get back to m...\n",
       "3  25/03/2018                            Chinese food with Jenna\n",
       "4  25/03/2018                               Finally won fortnite"
      ]
     },
     "execution_count": 6,
     "metadata": {},
     "output_type": "execute_result"
    }
   ],
   "source": [
    "grateful.head()\n",
    "paragraph.head()"
   ]
  },
  {
   "cell_type": "code",
   "execution_count": null,
   "metadata": {},
   "outputs": [],
   "source": []
  }
 ],
 "metadata": {
  "kernelspec": {
   "display_name": "Python [conda env:keep]",
   "language": "python",
   "name": "conda-env-keep-py"
  },
  "language_info": {
   "codemirror_mode": {
    "name": "ipython",
    "version": 3
   },
   "file_extension": ".py",
   "mimetype": "text/x-python",
   "name": "python",
   "nbconvert_exporter": "python",
   "pygments_lexer": "ipython3",
   "version": "3.6.4"
  }
 },
 "nbformat": 4,
 "nbformat_minor": 2
}
