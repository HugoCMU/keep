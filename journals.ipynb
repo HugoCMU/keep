{
 "cells": [
  {
   "cell_type": "markdown",
   "metadata": {},
   "source": [
    "# Journals\n",
    "\n",
    "This notebook is used for processing daily journals."
   ]
  },
  {
   "cell_type": "code",
   "execution_count": null,
   "metadata": {},
   "outputs": [],
   "source": [
    "import pandas as pd\n",
    "import re\n",
    "import datetime\n",
    "\n",
    "# These will be specific to the journal data file used\n",
    "JOURNAL_FILENAME = 'journals.txt'\n",
    "HEADER_REGEX = r'(\\d+)\\/(\\d+)\\/(\\d+)'\n",
    "GRATEFUL_REGEX = r'\\-(.*)'"
   ]
  },
  {
   "cell_type": "markdown",
   "metadata": {},
   "source": [
    "Lets put the journals into two seperate dataframes. One will include the bulleted grateful items for that day. The other will include the raw paragraphs. "
   ]
  },
  {
   "cell_type": "code",
   "execution_count": null,
   "metadata": {},
   "outputs": [],
   "source": [
    "raw_paragraphs = []\n",
    "raw_gratefuls = []\n",
    "\n",
    "date = 'Empty'\n",
    "grateful = 'Empty'\n",
    "paragraph = 'Empty'\n",
    "\n",
    "# Section headers (not to be included)\n",
    "headers = ['\\n', '#journal\\n', 'Grateful:\\n', '#daily\\n',\n",
    "           'Grateful List:\\n', 'Successes:\\n', 'Opportunities:\\n', \n",
    "           'Grateful list:\\n', ]\n",
    "\n",
    "# Import journal data from text file\n",
    "with open(JOURNAL_FILENAME) as file:\n",
    "    for line in file:\n",
    "        if 'Journal' in line:\n",
    "            raw_date = re.search(HEADER_REGEX, line).groups()\n",
    "            date = '/'.join(raw_date)\n",
    "            weekday = datetime.datetime(int(raw_date[2]),\n",
    "                                        int(raw_date[1]),\n",
    "                                        int(raw_date[0])).weekday()\n",
    "        elif line.startswith('-'):\n",
    "            grateful = re.search(GRATEFUL_REGEX, line).group(1)\n",
    "            raw_gratefuls.append((date, weekday, grateful))\n",
    "        elif line not in headers:\n",
    "            raw_paragraphs.append((date, weekday, line))\n",
    "        else:\n",
    "            pass\n",
    "                \n",
    "# Convert to dataframes\n",
    "grateful = pd.DataFrame(raw_gratefuls, columns=['Date', 'Weekday', 'Grateful'])\n",
    "paragraph = pd.DataFrame(raw_paragraphs, columns=['Date', 'Weekday', 'Line'])"
   ]
  },
  {
   "cell_type": "code",
   "execution_count": null,
   "metadata": {},
   "outputs": [],
   "source": [
    "print(paragraph)"
   ]
  },
  {
   "cell_type": "code",
   "execution_count": null,
   "metadata": {},
   "outputs": [],
   "source": [
    "grateful.head()\n",
    "paragraph.head()"
   ]
  },
  {
   "cell_type": "code",
   "execution_count": null,
   "metadata": {},
   "outputs": [],
   "source": []
  }
 ],
 "metadata": {
  "kernelspec": {
   "display_name": "Python [conda env:keep]",
   "language": "python",
   "name": "conda-env-keep-py"
  },
  "language_info": {
   "codemirror_mode": {
    "name": "ipython",
    "version": 3
   },
   "file_extension": ".py",
   "mimetype": "text/x-python",
   "name": "python",
   "nbconvert_exporter": "python",
   "pygments_lexer": "ipython3",
   "version": "3.6.4"
  }
 },
 "nbformat": 4,
 "nbformat_minor": 2
}
